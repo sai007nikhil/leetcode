{
 "cells": [
  {
   "cell_type": "code",
   "execution_count": 45,
   "metadata": {},
   "outputs": [],
   "source": [
    "from __future__ import annotations\n",
    "class ListNode:\n",
    "    def __init__(self, val=0, next=None):\n",
    "        self.val = val\n",
    "        self.next = next"
   ]
  },
  {
   "cell_type": "code",
   "execution_count": 46,
   "metadata": {},
   "outputs": [],
   "source": [
    "class Solution:\n",
    "    def addTwoNumbers(self, l1: Optional[ListNode], l2: Optional[ListNode]) -> Optional[ListNode]:\n",
    "        result = ListNode(0)\n",
    "        curr = result\n",
    "        carry = 0\n",
    "        while l1 != None and l2 != None:\n",
    "            sum = l1.val + l2.val + carry\n",
    "            carry = int(sum/10)\n",
    "            digit = sum % 10\n",
    "            curr.next = ListNode(digit)\n",
    "            curr = curr.next\n",
    "            l1 = l1.next\n",
    "            l2 = l2.next\n",
    "        while l1 != None:\n",
    "            sum = l1.val + carry\n",
    "            carry = int(sum/10)\n",
    "            digit = sum % 10\n",
    "            curr.next = ListNode(digit)\n",
    "            curr = curr.next\n",
    "            l1 = l1.next\n",
    "        while l2 != None:\n",
    "            sum = l2.val + carry\n",
    "            carry = int(sum/10)\n",
    "            digit = sum % 10\n",
    "            curr.next = ListNode(digit)\n",
    "            curr = curr.next\n",
    "            l2 = l2.next\n",
    "        if carry != 0:\n",
    "            curr.next = ListNode(carry)\n",
    "            curr = curr.next\n",
    "        return result.next"
   ]
  },
  {
   "cell_type": "code",
   "execution_count": 47,
   "metadata": {},
   "outputs": [
    {
     "name": "stdout",
     "output_type": "stream",
     "text": [
      "[8, 9, 9, 9, 0, 0, 0, 1]\n"
     ]
    }
   ],
   "source": [
    "l1 = ListNode(9)\n",
    "l1.next = ListNode(9)\n",
    "l1.next.next = ListNode(9)\n",
    "l1.next.next.next = ListNode(9)\n",
    "l1.next.next.next.next = ListNode(9)\n",
    "l1.next.next.next.next.next = ListNode(9)\n",
    "l1.next.next.next.next.next.next = ListNode(9)\n",
    "\n",
    "l2 = ListNode(9)\n",
    "l2.next = ListNode(9)\n",
    "l2.next.next = ListNode(9)\n",
    "l2.next.next.next = ListNode(9)\n",
    "\n",
    "result = Solution.addTwoNumbers(Solution, l1, l2)\n",
    "res = []\n",
    "while result != None:\n",
    "    res.append(result.val)\n",
    "    result = result.next\n",
    "print(res)"
   ]
  },
  {
   "cell_type": "code",
   "execution_count": 48,
   "metadata": {},
   "outputs": [
    {
     "name": "stdout",
     "output_type": "stream",
     "text": [
      "[0]\n"
     ]
    }
   ],
   "source": [
    "l1 = ListNode(0)\n",
    "\n",
    "l2 = ListNode(0)\n",
    "\n",
    "result = Solution.addTwoNumbers(Solution, l1, l2)\n",
    "res = []\n",
    "while result != None:\n",
    "    res.append(result.val)\n",
    "    result = result.next\n",
    "print(res)"
   ]
  },
  {
   "cell_type": "code",
   "execution_count": 49,
   "metadata": {},
   "outputs": [
    {
     "name": "stdout",
     "output_type": "stream",
     "text": [
      "[7, 0, 8]\n"
     ]
    }
   ],
   "source": [
    "l1 = ListNode(2)\n",
    "l1.next = ListNode(4)\n",
    "l1.next.next = ListNode(3)\n",
    "# l1.next.next.next = ListNode(9)\n",
    "\n",
    "l2 = ListNode(5)\n",
    "l2.next = ListNode(6)\n",
    "l2.next.next = ListNode(4)\n",
    "# l2.next.next.next = ListNode(9)\n",
    "\n",
    "result = Solution.addTwoNumbers(Solution, l1, l2)\n",
    "res = []\n",
    "while result != None:\n",
    "    res.append(result.val)\n",
    "    result = result.next\n",
    "print(res)"
   ]
  }
 ],
 "metadata": {
  "kernelspec": {
   "display_name": "base",
   "language": "python",
   "name": "python3"
  },
  "language_info": {
   "codemirror_mode": {
    "name": "ipython",
    "version": 3
   },
   "file_extension": ".py",
   "mimetype": "text/x-python",
   "name": "python",
   "nbconvert_exporter": "python",
   "pygments_lexer": "ipython3",
   "version": "3.9.12"
  },
  "orig_nbformat": 4,
  "vscode": {
   "interpreter": {
    "hash": "38cca0c38332a56087b24af0bc80247f4fced29cb4f7f437d91dc159adec9c4e"
   }
  }
 },
 "nbformat": 4,
 "nbformat_minor": 2
}
