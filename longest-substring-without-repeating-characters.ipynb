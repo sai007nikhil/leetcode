{
 "cells": [
  {
   "cell_type": "code",
   "execution_count": 24,
   "metadata": {},
   "outputs": [
    {
     "name": "stdout",
     "output_type": "stream",
     "text": [
      "{'a': None} 0 1\n",
      "{'a': None, 'b': None} 0 2\n",
      "{'a': None, 'b': None, 'c': None} 0 3\n",
      "{'b': None, 'c': None, 'a': None} 1 3\n",
      "{'c': None, 'a': None, 'b': None} 2 3\n",
      "{'a': None, 'b': None, 'c': None} 3 3\n",
      "{'c': None, 'b': None} 5 3\n",
      "{'b': None} 7 3\n",
      "3\n"
     ]
    }
   ],
   "source": [
    "class Solution:\n",
    "    def lengthOfLongestSubstring(self, s: str) -> int:\n",
    "        map = {}\n",
    "        start = 0\n",
    "        max = 0\n",
    "        for j in range(len(s)):\n",
    "            c = s[j]\n",
    "            if c in map:\n",
    "                i = start\n",
    "                while s[i] != c:\n",
    "                    del map[s[i]]\n",
    "                    i += 1\n",
    "                start = i + 1\n",
    "                del map[s[i]]\n",
    "            map[c] = None\n",
    "            cur = len(map)\n",
    "            max = cur if cur > max else max\n",
    "            print(map, start, max)\n",
    "        return max\n",
    "print(Solution.lengthOfLongestSubstring(Solution, \"abcabcbb\"))"
   ]
  }
 ],
 "metadata": {
  "kernelspec": {
   "display_name": "base",
   "language": "python",
   "name": "python3"
  },
  "language_info": {
   "codemirror_mode": {
    "name": "ipython",
    "version": 3
   },
   "file_extension": ".py",
   "mimetype": "text/x-python",
   "name": "python",
   "nbconvert_exporter": "python",
   "pygments_lexer": "ipython3",
   "version": "3.9.12"
  },
  "orig_nbformat": 4,
  "vscode": {
   "interpreter": {
    "hash": "38cca0c38332a56087b24af0bc80247f4fced29cb4f7f437d91dc159adec9c4e"
   }
  }
 },
 "nbformat": 4,
 "nbformat_minor": 2
}
