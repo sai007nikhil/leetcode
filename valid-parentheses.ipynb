{
 "cells": [
  {
   "cell_type": "code",
   "execution_count": 1,
   "metadata": {},
   "outputs": [],
   "source": [
    "from __future__ import annotations"
   ]
  },
  {
   "cell_type": "code",
   "execution_count": 10,
   "metadata": {},
   "outputs": [
    {
     "name": "stdout",
     "output_type": "stream",
     "text": [
      "False\n"
     ]
    }
   ],
   "source": [
    "class Solution:\n",
    "    def isValid(self, s: str) -> bool:\n",
    "        temp = []\n",
    "        for p in s:\n",
    "            if p == '(' or p =='{' or p == '[':\n",
    "                temp.append(p)\n",
    "                continue\n",
    "            if len(temp) == 0:\n",
    "                return False\n",
    "            k = temp.pop()\n",
    "            if (p == ')' and k != '(') or (p == '}' and k != '{') or (p == ']' and k != '['):\n",
    "                return False\n",
    "        if len(temp) == 0:\n",
    "            return True\n",
    "        else:\n",
    "            return False\n",
    "print(Solution.isValid(Solution, \"(]\"))"
   ]
  }
 ],
 "metadata": {
  "kernelspec": {
   "display_name": "base",
   "language": "python",
   "name": "python3"
  },
  "language_info": {
   "codemirror_mode": {
    "name": "ipython",
    "version": 3
   },
   "file_extension": ".py",
   "mimetype": "text/x-python",
   "name": "python",
   "nbconvert_exporter": "python",
   "pygments_lexer": "ipython3",
   "version": "3.9.12"
  },
  "orig_nbformat": 4,
  "vscode": {
   "interpreter": {
    "hash": "38cca0c38332a56087b24af0bc80247f4fced29cb4f7f437d91dc159adec9c4e"
   }
  }
 },
 "nbformat": 4,
 "nbformat_minor": 2
}
