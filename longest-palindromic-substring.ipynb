{
 "cells": [
  {
   "cell_type": "code",
   "execution_count": 31,
   "metadata": {},
   "outputs": [
    {
     "name": "stdout",
     "output_type": "stream",
     "text": [
      "{'b': [0, 2, 4], 'a': [1, 3]}\n",
      "2\n",
      "babab\n"
     ]
    }
   ],
   "source": [
    "class Solution:\n",
    "    def longestPalindrome(self, s: str) -> str:\n",
    "        map = {}\n",
    "        for i in range(len(s)):\n",
    "            c = s[i]\n",
    "            if c in map:\n",
    "                map[c].append(i)\n",
    "            else:\n",
    "                map[c] = [i]\n",
    "        max = 0\n",
    "        start = 0\n",
    "        end = 0\n",
    "        for c in map:\n",
    "            arr = map[c]\n",
    "            size = len(arr)\n",
    "            for i in range(0, size):\n",
    "                j = size\n",
    "                while j > i:\n",
    "                    j -= 1\n",
    "                    p = arr[i]\n",
    "                    q = arr[j]\n",
    "                    if q - p + 1 < max:\n",
    "                        continue\n",
    "                    isPalindrome = True\n",
    "                    while p <= q:\n",
    "                        if s[p] != s[q]:\n",
    "                            isPalindrome = False\n",
    "                            break\n",
    "                        p += 1\n",
    "                        q -= 1\n",
    "                    if isPalindrome:\n",
    "                        m = arr[j] - arr[i] + 1\n",
    "                        if m > max:\n",
    "                            start = arr[i]\n",
    "                            end = arr[j]\n",
    "                            max = m\n",
    "        return s[start:end+1]\n",
    "print(Solution.longestPalindrome(Solution, \"babab\"))"
   ]
  }
 ],
 "metadata": {
  "kernelspec": {
   "display_name": "base",
   "language": "python",
   "name": "python3"
  },
  "language_info": {
   "codemirror_mode": {
    "name": "ipython",
    "version": 3
   },
   "file_extension": ".py",
   "mimetype": "text/x-python",
   "name": "python",
   "nbconvert_exporter": "python",
   "pygments_lexer": "ipython3",
   "version": "3.9.12"
  },
  "orig_nbformat": 4,
  "vscode": {
   "interpreter": {
    "hash": "38cca0c38332a56087b24af0bc80247f4fced29cb4f7f437d91dc159adec9c4e"
   }
  }
 },
 "nbformat": 4,
 "nbformat_minor": 2
}
