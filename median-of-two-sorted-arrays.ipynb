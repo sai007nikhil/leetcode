{
 "cells": [
  {
   "cell_type": "code",
   "execution_count": 13,
   "metadata": {},
   "outputs": [
    {
     "name": "stdout",
     "output_type": "stream",
     "text": [
      "0.0\n"
     ]
    }
   ],
   "source": [
    "class Solution:\n",
    "    def findMedianSortedArrays(self, nums1: list[int], nums2: list[int]) -> float:\n",
    "        l1 = len(nums1)\n",
    "        l2 = len(nums2)\n",
    "        l = l1 + l2\n",
    "        left = right = int(l / 2)\n",
    "        if l % 2 == 0:\n",
    "            left -= 1\n",
    "        i = j = k = 0\n",
    "        median = 0\n",
    "        while i < l1 and j < l2 and k <= right:\n",
    "            num = None\n",
    "            if nums1[i] <= nums2[j]:\n",
    "                num = nums1[i]\n",
    "                i += 1\n",
    "            else:\n",
    "                num = nums2[j]\n",
    "                j += 1\n",
    "            if k == left:\n",
    "                median += num\n",
    "            if k == right:\n",
    "                median += num\n",
    "            k += 1\n",
    "        while i < l1:\n",
    "            if k == left:\n",
    "                median += nums1[i]\n",
    "            if k == right:\n",
    "                median += nums1[i]\n",
    "                break\n",
    "            i += 1\n",
    "            k += 1\n",
    "        while j < l2:\n",
    "            if k == left:\n",
    "                median += nums2[j]\n",
    "            if k == right:\n",
    "                median += nums2[j]\n",
    "                break\n",
    "            j += 1\n",
    "            k += 1\n",
    "        return median / 2\n",
    "print(Solution.findMedianSortedArrays(Solution, [], []))"
   ]
  }
 ],
 "metadata": {
  "kernelspec": {
   "display_name": "base",
   "language": "python",
   "name": "python3"
  },
  "language_info": {
   "codemirror_mode": {
    "name": "ipython",
    "version": 3
   },
   "file_extension": ".py",
   "mimetype": "text/x-python",
   "name": "python",
   "nbconvert_exporter": "python",
   "pygments_lexer": "ipython3",
   "version": "3.9.12"
  },
  "orig_nbformat": 4,
  "vscode": {
   "interpreter": {
    "hash": "38cca0c38332a56087b24af0bc80247f4fced29cb4f7f437d91dc159adec9c4e"
   }
  }
 },
 "nbformat": 4,
 "nbformat_minor": 2
}
