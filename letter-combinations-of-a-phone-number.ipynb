{
 "cells": [
  {
   "cell_type": "code",
   "execution_count": 3,
   "metadata": {},
   "outputs": [],
   "source": [
    "from __future__ import annotations"
   ]
  },
  {
   "cell_type": "code",
   "execution_count": 21,
   "metadata": {},
   "outputs": [
    {
     "name": "stdout",
     "output_type": "stream",
     "text": [
      "['adg', 'adh', 'adi', 'aeg', 'aeh', 'aei', 'afg', 'afh', 'afi', 'bdg', 'bdh', 'bdi', 'beg', 'beh', 'bei', 'bfg', 'bfh', 'bfi', 'cdg', 'cdh', 'cdi', 'ceg', 'ceh', 'cei', 'cfg', 'cfh', 'cfi']\n"
     ]
    }
   ],
   "source": [
    "class Solution:\n",
    "    def letterCombinations(self, digits: str) -> List[str]:\n",
    "        num_dict = {\n",
    "            '2': ['a', 'b', 'c'], \n",
    "            '3': ['d', 'e', 'f'], \n",
    "            '4': ['g', 'h', 'i'], \n",
    "            '5': ['j', 'k', 'l'], \n",
    "            '6': ['m', 'n', 'o'], \n",
    "            '7': ['p', 'q', 'r', 's'], \n",
    "            '8': ['t', 'u', 'v'], \n",
    "            '9': ['w', 'x', 'y', 'z']}\n",
    "        if len(digits) == 0:\n",
    "            return []\n",
    "        if len(digits) == 1:\n",
    "            return num_dict[digits[0]]\n",
    "        res = num_dict[digits[0]]\n",
    "        for i in range(1, len(digits)):\n",
    "            digit = digits[i]\n",
    "            res = ['{}{}'.format(a,b) for a in res for b in num_dict[digit]]\n",
    "        return res\n",
    "print(Solution.letterCombinations(Solution, \"234\"))"
   ]
  }
 ],
 "metadata": {
  "kernelspec": {
   "display_name": "base",
   "language": "python",
   "name": "python3"
  },
  "language_info": {
   "codemirror_mode": {
    "name": "ipython",
    "version": 3
   },
   "file_extension": ".py",
   "mimetype": "text/x-python",
   "name": "python",
   "nbconvert_exporter": "python",
   "pygments_lexer": "ipython3",
   "version": "3.9.12"
  },
  "orig_nbformat": 4,
  "vscode": {
   "interpreter": {
    "hash": "38cca0c38332a56087b24af0bc80247f4fced29cb4f7f437d91dc159adec9c4e"
   }
  }
 },
 "nbformat": 4,
 "nbformat_minor": 2
}
