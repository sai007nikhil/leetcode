{
 "cells": [
  {
   "cell_type": "code",
   "execution_count": 1,
   "metadata": {},
   "outputs": [],
   "source": [
    "from __future__ import annotations"
   ]
  },
  {
   "cell_type": "code",
   "execution_count": 25,
   "metadata": {},
   "outputs": [
    {
     "name": "stdout",
     "output_type": "stream",
     "text": [
      "fl\n",
      "\n"
     ]
    }
   ],
   "source": [
    "class Solution:\n",
    "    def longestCommonPrefix(self, strs: List[str]) -> str:\n",
    "        strs_len = len(strs)\n",
    "        l = 0\n",
    "        sl = 200\n",
    "        for str in strs:\n",
    "            str_len = len(str)\n",
    "            if str_len < sl:\n",
    "                sl = str_len\n",
    "        while l < sl:\n",
    "            c = strs[0][l]\n",
    "            for i in range(1, strs_len):\n",
    "                if strs[i][l] != c:\n",
    "                    return strs[0][0:l]\n",
    "            l += 1\n",
    "        return strs[0][0:l]\n",
    "print(Solution.longestCommonPrefix(Solution, [\"flower\",\"flow\",\"flight\"]))\n",
    "print(Solution.longestCommonPrefix(Solution, [\"dog\",\"racecar\",\"car\"]))"
   ]
  }
 ],
 "metadata": {
  "kernelspec": {
   "display_name": "base",
   "language": "python",
   "name": "python3"
  },
  "language_info": {
   "codemirror_mode": {
    "name": "ipython",
    "version": 3
   },
   "file_extension": ".py",
   "mimetype": "text/x-python",
   "name": "python",
   "nbconvert_exporter": "python",
   "pygments_lexer": "ipython3",
   "version": "3.9.12"
  },
  "orig_nbformat": 4,
  "vscode": {
   "interpreter": {
    "hash": "38cca0c38332a56087b24af0bc80247f4fced29cb4f7f437d91dc159adec9c4e"
   }
  }
 },
 "nbformat": 4,
 "nbformat_minor": 2
}
