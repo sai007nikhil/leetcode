{
 "cells": [
  {
   "cell_type": "code",
   "execution_count": 13,
   "metadata": {},
   "outputs": [],
   "source": [
    "from __future__ import annotations\n",
    "class ListNode:\n",
    "    def __init__(self, val=0, next=None):\n",
    "        self.val = val\n",
    "        self.next = next"
   ]
  },
  {
   "cell_type": "code",
   "execution_count": 21,
   "metadata": {},
   "outputs": [
    {
     "name": "stdout",
     "output_type": "stream",
     "text": [
      "[1, 1, 2, 3, 4, 4, 5, 6]\n"
     ]
    }
   ],
   "source": [
    "class Solution:\n",
    "    def mergeKLists(self, lists: List[Optional[ListNode]]) -> Optional[ListNode]:\n",
    "        map = {}\n",
    "        for l in lists:\n",
    "            while l != None:\n",
    "                if l.val not in map:\n",
    "                    map[l.val] = 1\n",
    "                else:\n",
    "                    map[l.val] += 1\n",
    "                l = l.next\n",
    "        result = ListNode(0)\n",
    "        curr = result\n",
    "        for key in sorted(map.keys()):\n",
    "            for i in range(0, map[key]):\n",
    "                curr.next = ListNode(key)\n",
    "                curr = curr.next\n",
    "        return result.next\n",
    "\n",
    "l1 = ListNode(1)\n",
    "l1.next = ListNode(4)\n",
    "l1.next.next = ListNode(5)\n",
    "\n",
    "l2 = ListNode(1)\n",
    "l2.next = ListNode(3)\n",
    "l2.next.next = ListNode(4)\n",
    "\n",
    "\n",
    "l3 = ListNode(2)\n",
    "l3.next = ListNode(6)\n",
    "\n",
    "result = Solution.mergeKLists(Solution, [l1, l2, l3])\n",
    "res = []\n",
    "while result != None:\n",
    "    res.append(result.val)\n",
    "    result = result.next\n",
    "print(res)"
   ]
  }
 ],
 "metadata": {
  "kernelspec": {
   "display_name": "base",
   "language": "python",
   "name": "python3"
  },
  "language_info": {
   "codemirror_mode": {
    "name": "ipython",
    "version": 3
   },
   "file_extension": ".py",
   "mimetype": "text/x-python",
   "name": "python",
   "nbconvert_exporter": "python",
   "pygments_lexer": "ipython3",
   "version": "3.9.12"
  },
  "orig_nbformat": 4,
  "vscode": {
   "interpreter": {
    "hash": "38cca0c38332a56087b24af0bc80247f4fced29cb4f7f437d91dc159adec9c4e"
   }
  }
 },
 "nbformat": 4,
 "nbformat_minor": 2
}
